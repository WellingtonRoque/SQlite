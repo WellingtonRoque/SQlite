{
  "nbformat": 4,
  "nbformat_minor": 0,
  "metadata": {
    "colab": {
      "provenance": [],
      "authorship_tag": "ABX9TyMIZWPKOhH2JQ2T4PFgzWHS",
      "include_colab_link": true
    },
    "kernelspec": {
      "name": "python3",
      "display_name": "Python 3"
    },
    "language_info": {
      "name": "python"
    }
  },
  "cells": [
    {
      "cell_type": "markdown",
      "metadata": {
        "id": "view-in-github",
        "colab_type": "text"
      },
      "source": [
        "<a href=\"https://colab.research.google.com/github/WellingtonRoque/SQlite/blob/main/SQlite.ipynb\" target=\"_parent\"><img src=\"https://colab.research.google.com/assets/colab-badge.svg\" alt=\"Open In Colab\"/></a>"
      ]
    },
    {
      "cell_type": "code",
      "source": [
        "from google.colab import drive\n",
        "drive.mount('/content/gdrive')\n",
        "\n",
        "import sys\n",
        "\n",
        "sys.path.insert(0,'/content/gdrive/MyDrive/python')"
      ],
      "metadata": {
        "colab": {
          "base_uri": "https://localhost:8080/"
        },
        "id": "IUO7FeeYytKK",
        "outputId": "9e9f2145-0af4-4d28-f250-e51753b81482"
      },
      "execution_count": 14,
      "outputs": [
        {
          "output_type": "stream",
          "name": "stdout",
          "text": [
            "Drive already mounted at /content/gdrive; to attempt to forcibly remount, call drive.mount(\"/content/gdrive\", force_remount=True).\n"
          ]
        }
      ]
    },
    {
      "cell_type": "code",
      "source": [
        "from database import BancoDeDados\n",
        "\n",
        "if __name__ == \"__main__\":\n",
        "\n",
        "    banco = BancoDeDados()\n",
        "    banco.conecta()\n",
        "    banco.criar_tabelas()\n",
        "\n",
        "    #banco.inserir_cliente(\"Marcos\", \"11111111111\", \"mcastrosouza@live.com\")\n",
        "    ##banco.inserir_cliente('Thomas', '22222222222', 'thomas@gmail.com')\n",
        "\n",
        "    banco.buscar_cliente(\"11111111111\")\n",
        "\n",
        "    #banco.buscar_email(\"thomas@gmail.com\")\n",
        "\n",
        "    #banco.remover_cliente(\"11111111111\")\n",
        "\n",
        "    banco.desconecta()"
      ],
      "metadata": {
        "colab": {
          "base_uri": "https://localhost:8080/"
        },
        "id": "Tr-N5y0Kdkej",
        "outputId": "27e1312e-63a3-400b-ff2f-91f68f18cccc"
      },
      "execution_count": 19,
      "outputs": [
        {
          "output_type": "stream",
          "name": "stdout",
          "text": [
            "Cliente Marcos encontrado\n"
          ]
        }
      ]
    }
  ]
}